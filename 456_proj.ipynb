{
  "nbformat": 4,
  "nbformat_minor": 0,
  "metadata": {
    "colab": {
      "provenance": []
    },
    "kernelspec": {
      "name": "python3",
      "display_name": "Python 3"
    },
    "language_info": {
      "name": "python"
    }
  },
  "cells": [
    {
      "cell_type": "code",
      "execution_count": null,
      "metadata": {
        "id": "9WMQ_Lxr3XPe"
      },
      "outputs": [],
      "source": [
        "!pip install kaggle\n",
        "!pip install tensorflow"
      ]
    },
    {
      "cell_type": "code",
      "source": [
        "from tensorflow import keras\n",
        "import numpy as np\n",
        "import matplotlib.pyplot as plt\n",
        "import matplotlib as mpl\n",
        "import os\n",
        "import tensorflow as tf\n",
        "import shutil\n",
        "import PIL\n",
        "import PIL.Image\n",
        "from sklearn.model_selection import train_test_split\n",
        "import sklearn\n",
        "import tensorflow_datasets as tfds\n",
        "\n",
        "from tensorflow.keras.utils import image_dataset_from_directory\n",
        "from tensorflow.keras import layers, models\n",
        "from tensorflow.keras.applications import VGG16\n",
        "import kagglehub"
      ],
      "metadata": {
        "id": "HJxr3BKc3bqT"
      },
      "execution_count": null,
      "outputs": []
    },
    {
      "cell_type": "code",
      "source": [
        "from google.colab import files\n",
        "files.upload()\n"
      ],
      "metadata": {
        "id": "ZbB-sB3g3etd"
      },
      "execution_count": null,
      "outputs": []
    },
    {
      "cell_type": "code",
      "source": [
        "if not os.path.exists('/root/.kaggle'):\n",
        "  os.mkdir('/root/.kaggle')\n",
        "!mv kaggle.json /root/.kaggle/\n",
        "!chmod 600 /root/.kaggle/kaggle.json"
      ],
      "metadata": {
        "id": "ufKnq0_c3go0"
      },
      "execution_count": null,
      "outputs": []
    },
    {
      "cell_type": "code",
      "source": [
        "# import dataset fashion_mnsit\n",
        "#import kagglehub\n",
        "\n",
        "# Download latest version\n",
        "path = kagglehub.dataset_download(\"prasunroy/natural-images\")\n",
        "\n",
        "print(\"Path to dataset files:\", path)"
      ],
      "metadata": {
        "id": "87VED-Yg3igb"
      },
      "execution_count": null,
      "outputs": []
    },
    {
      "cell_type": "code",
      "source": [
        "dataset_dir = os.path.join(path, \"natural_images\")\n",
        "\n",
        "print(\"path: \", os.listdir(path))\n",
        "\n",
        "class_names = ['airplane', 'car', 'cat', 'dog', 'flower', 'fruit', 'motorbike', 'person']\n",
        "y_train = {class_elm: i for i, class_elm in enumerate(class_names)}\n",
        "\n",
        "train_ds = image_dataset_from_directory(\n",
        "    dataset_dir,\n",
        "    validation_split=0.2,\n",
        "    subset=\"training\",\n",
        "    seed=123,\n",
        "    color_mode='rgb',\n",
        "    image_size=(224,224),\n",
        "    batch_size=32\n",
        ")\n",
        "\n",
        "val_ds = image_dataset_from_directory(\n",
        "    dataset_dir,\n",
        "    validation_split=0.2,\n",
        "    subset=\"validation\",\n",
        "    seed=123,\n",
        "    color_mode='rgb',\n",
        "    image_size=(224,224),\n",
        "    batch_size=32\n",
        ")\n",
        "\n",
        "val_batches = tf.data.experimental.cardinality(val_ds)\n",
        "test_ds = val_ds.take(val_batches // 2)\n",
        "val_ds = val_ds.skip(val_batches // 2)\n"
      ],
      "metadata": {
        "id": "KUp1MR7Q3ugZ"
      },
      "execution_count": null,
      "outputs": []
    },
    {
      "cell_type": "code",
      "source": [
        "train_ds = train_ds.prefetch(buffer_size=tf.data.experimental.AUTOTUNE)\n",
        "val_ds = val_ds.prefetch(buffer_size=tf.data.experimental.AUTOTUNE)"
      ],
      "metadata": {
        "id": "7n_QSSsw3zwe"
      },
      "execution_count": null,
      "outputs": []
    },
    {
      "cell_type": "code",
      "source": [
        "base_model = VGG16(weights='imagenet', include_top=False, input_shape=(224,224,3), name=\"vgg16\")"
      ],
      "metadata": {
        "id": "2ZNlU-ka310d"
      },
      "execution_count": null,
      "outputs": []
    },
    {
      "cell_type": "code",
      "source": [
        "from tensorflow.keras.losses import SparseCategoricalCrossentropy\n",
        "from tensorflow.keras.optimizers import Adam\n",
        "from tensorflow.keras.layers import Dense, Flatten#, Sequential\n",
        "#from\n",
        "\n",
        "base_model.trainable = False\n",
        "model = keras.Sequential([\n",
        "    base_model,\n",
        "    Flatten(),\n",
        "    Dense(64, activation='relu'),\n",
        "    Dense(64, activation='relu'),\n",
        "    Dense(8, activation='softmax')\n",
        "])\n",
        "\n",
        "model.compile(loss=SparseCategoricalCrossentropy(from_logits=True), optimizer= Adam(), metrics=['accuracy'])\n"
      ],
      "metadata": {
        "id": "LGg07c_833lc"
      },
      "execution_count": null,
      "outputs": []
    },
    {
      "cell_type": "code",
      "source": [
        "train_model = model.fit(train_ds, batch_size=100, epochs=10, validation_data= val_ds)"
      ],
      "metadata": {
        "id": "JNwC2Sk435z4"
      },
      "execution_count": null,
      "outputs": []
    },
    {
      "cell_type": "code",
      "source": [
        "loss_test, accuracy_test = model.evaluate(val_ds)\n",
        "print(\"loss: \", loss_test)\n",
        "print(\"accuracy: \", accuracy_test)\n"
      ],
      "metadata": {
        "id": "BM4pYrx-38tq"
      },
      "execution_count": null,
      "outputs": []
    },
    {
      "cell_type": "code",
      "source": [
        "for b, l in train_ds.take(5):\n",
        "  pos_pred = model.predict(b)\n",
        "  predict_label = np.argmax(pos_pred, axis=1)\n",
        "\n",
        "for bh, lb in test_ds.take(5):\n",
        "  lab_ans = lb.numpy()\n",
        "\n",
        "\n",
        "print(\"pred label: \", predict_label)\n",
        "print(\"real label: \", lab_ans)\n",
        "\n",
        "\n",
        "\n",
        "\n"
      ],
      "metadata": {
        "id": "oz6li2313-Vk"
      },
      "execution_count": null,
      "outputs": []
    }
  ]
}